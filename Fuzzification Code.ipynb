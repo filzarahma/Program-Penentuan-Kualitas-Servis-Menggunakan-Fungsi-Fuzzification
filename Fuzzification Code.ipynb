{
  "cells": [
    {
      "cell_type": "markdown",
      "metadata": {
        "id": "EnQyHTCs0KWI"
      },
      "source": [
        "**Disclaimer:**  \n",
        "This program was developed as part of the Programming assignment for the Artificial Intelligence Introduction course by:  \n",
        "- Filza Rahma Muflihah (1301201261)  \n",
        "- Ummu Husnul Khatimah (1301204120)  \n",
        "\n",
        "**Instructions for Use:**  \n",
        "1. **Using in Google Colab**  \n",
        "   - Upload the 'bengkel.xlsx' file before running the program.  \n",
        "   - To upload, click the folder icon (fourth from the top left), then use the upload option on the far left.  \n",
        "\n",
        "2. **Running Locally**  \n",
        "   - Ensure Python and the required libraries are installed on your system.  \n",
        "   - Place the 'bengkel.xlsx' file in the same directory as the program file.  \n",
        "   - Run the program using your preferred Python IDE or from the command line.  \n",
        "\n",
        "Thank you for using this program!"
      ]
    },
    {
      "cell_type": "code",
      "execution_count": 1,
      "metadata": {
        "colab": {
          "base_uri": "https://localhost:8080/"
        },
        "id": "UizL8LUMxJZ9",
        "outputId": "953e2ec5-6bdf-42b0-8e5a-9a3439ca7f34"
      },
      "outputs": [
        {
          "name": "stdout",
          "output_type": "stream",
          "text": [
            "Data from Excel:      id  servis  harga\n",
            "0     1      58      7\n",
            "1     2      54      1\n",
            "2     3      98      2\n",
            "3     4      52      4\n",
            "4     5      11      4\n",
            "..  ...     ...    ...\n",
            "95   96      30      1\n",
            "96   97      25      3\n",
            "97   98      27     10\n",
            "98   99       8      6\n",
            "99  100      11      8\n",
            "\n",
            "[100 rows x 3 columns]\n"
          ]
        }
      ],
      "source": [
        "# Importing Required Libraries\n",
        "import pandas as pd"
      ]
    },
    {
      "cell_type": "code",
      "execution_count": null,
      "metadata": {},
      "outputs": [],
      "source": [
        "# Step 1: Reading the Input Excel File\n",
        "# Load the data from the Excel file into a pandas DataFrame for easier processing.\n",
        "# Additionally, convert the data into a list of dictionaries for row-by-row access.\n",
        "tabel = pd.read_excel('bengkel.xlsx', sheet_name='Sheet1')\n",
        "data = tabel.to_dict('records')\n",
        "print(\"Data from Excel:\", tabel)"
      ]
    },
    {
      "cell_type": "code",
      "execution_count": 2,
      "metadata": {
        "id": "-LuMbU-zzXj9"
      },
      "outputs": [],
      "source": [
        "# Step 2: Fuzzification Functions\n",
        "# Define a function to fuzzify the service quality score.\n",
        "# This function maps the input score into linguistic variables like \"buruk\" (bad),\n",
        "# \"cukup\" (fair), and \"bagus\" (good) along with their membership degrees.\n",
        "def fuzzify_service(x):\n",
        "    dict_servis = {}\n",
        "    if x <= 33:\n",
        "        # If the score is less than or equal to 33, it is fully \"buruk\" (bad).\n",
        "        dict_servis[1] = ['buruk', -(x-33)/(33-0)]\n",
        "        dict_servis[2] = ['buruk', (x-0)/(33-0)]\n",
        "    elif x > 33 and x <= 50:\n",
        "        # In the range 34 to 50, it transitions from \"buruk\" to \"cukup\" (fair).\n",
        "        dict_servis[1] = ['buruk', -(x-50)/(50-33)]\n",
        "        dict_servis[2] = ['cukup', (x-33)/(50-33)]\n",
        "    elif x > 50 and x <= 70:\n",
        "        # In the range 51 to 70, it transitions from \"cukup\" to \"bagus\" (good).\n",
        "        dict_servis[1] = ['cukup', -(x-70)/(70-50)]\n",
        "        dict_servis[2] = ['bagus', (x-50)/(70-50)]\n",
        "    else:\n",
        "        # If the score is above 70, it is fully \"bagus\" (good).\n",
        "        dict_servis[1] = ['bagus', -(x-100)/(100-70)]\n",
        "        dict_servis[2] = ['bagus', (x-70)/(100-70)]\n",
        "    return dict_servis\n",
        "\n",
        "# Define a function to fuzzify the price score.\n",
        "# This function maps the input score into linguistic variables like \"murah\" (cheap)\n",
        "# and \"mahal\" (expensive) along with their membership degrees.\n",
        "def fuzzify_price(y):\n",
        "    dict_harga = {}\n",
        "    if y <= 5:\n",
        "        # If the price is less than or equal to 5, it is fully \"murah\" (cheap).\n",
        "        dict_harga[1] = ['murah', -(y-5)/(5-0)]\n",
        "        dict_harga[2] = ['murah', (y-0)/(5-0)]\n",
        "    elif y > 5 and y <= 8:\n",
        "        # In the range 6 to 8, it transitions from \"murah\" to \"mahal\" (expensive).\n",
        "        dict_harga[1] = ['murah', -(y-8)/(8-5)]\n",
        "        dict_harga[2] = ['mahal', (y-5)/(8-5)]\n",
        "    else:\n",
        "        # If the price is above 8, it is fully \"mahal\" (expensive).\n",
        "        dict_harga[1] = ['mahal', -(y-10)/(10-8)]\n",
        "        dict_harga[2] = ['mahal', (y-8)/(10-8)]\n",
        "    return dict_harga\n"
      ]
    },
    {
      "cell_type": "code",
      "execution_count": 3,
      "metadata": {
        "id": "zsrF4PNBFitx"
      },
      "outputs": [],
      "source": [
        "# Step 3: Inference\n",
        "# Define a function to perform inference using fuzzy rules.\n",
        "# This function determines whether the service-price combination is \"recommended\"\n",
        "# or \"not recommended\" based on the fuzzy membership values.\n",
        "def inference(ds, dh):\n",
        "    hasil = {'not recommended': 0, 'recommended': 0}  # Initialize results\n",
        "    for i in range(1, 3):  # Loop over service fuzzy values\n",
        "        for j in range(1, 3):  # Loop over price fuzzy values\n",
        "            if ds[i][0] == 'buruk':  # If service is \"buruk\", it's \"not recommended\"\n",
        "                infer = 'not recommended'\n",
        "            elif ds[i][0] == 'cukup':  # If service is \"cukup\"\n",
        "                infer = 'recommended' if dh[j][0] == 'murah' else 'not recommended'\n",
        "            else:  # If service is \"bagus\", it's always \"recommended\"\n",
        "                infer = 'recommended'\n",
        "\n",
        "            # The membership value for the rule is the minimum of the two memberships\n",
        "            nilai = min(ds[i][1], dh[j][1])\n",
        "            if nilai > hasil[infer]:  # Update the result if the value is higher\n",
        "                hasil[infer] = nilai\n",
        "    return hasil"
      ]
    },
    {
      "cell_type": "code",
      "execution_count": 4,
      "metadata": {
        "id": "y1FIhj2NYGP_"
      },
      "outputs": [],
      "source": [
        "# Step 4: Defuzzification\n",
        "# Define a function to defuzzify the results into a crisp value.\n",
        "# This function calculates a weighted average based on the membership degrees\n",
        "# of \"recommended\" and \"not recommended\".\n",
        "def defuzzify(output):\n",
        "    numerator = (output['not recommended'] * 50) + (output['recommended'] * 100)\n",
        "    denominator = output['not recommended'] + output['recommended']\n",
        "    return numerator / denominator if denominator != 0 else 0  # Avoid division by zero"
      ]
    },
    {
      "cell_type": "code",
      "execution_count": 5,
      "metadata": {},
      "outputs": [],
      "source": [
        "# Step 5: Processing the Data\n",
        "# Loop through each row in the data, fuzzify the inputs, apply inference,\n",
        "# and calculate a crisp score for ranking.\n",
        "tab_dic = []\n",
        "for record in data:\n",
        "    # Fuzzification\n",
        "    ds = fuzzify_service(record['servis'])\n",
        "    dh = fuzzify_price(record['harga'])\n",
        "\n",
        "    # Inference\n",
        "    f_output = inference(ds, dh)\n",
        "\n",
        "    # Defuzzification\n",
        "    crisp = defuzzify(f_output)\n",
        "\n",
        "    # Store the Results\n",
        "    tab_dic.append({'rank': 0, 'id': record['id'], 'z*': crisp})"
      ]
    },
    {
      "cell_type": "code",
      "execution_count": 6,
      "metadata": {},
      "outputs": [],
      "source": [
        "# Step 6: Ranking\n",
        "# Sort the results by the crisp score in descending order and assign rankings.\n",
        "tab_dic = sorted(tab_dic, key=lambda x: x['z*'], reverse=True)\n",
        "for rank, item in enumerate(tab_dic, start=1):\n",
        "    item['rank'] = rank"
      ]
    },
    {
      "cell_type": "code",
      "execution_count": 7,
      "metadata": {},
      "outputs": [
        {
          "name": "stdout",
          "output_type": "stream",
          "text": [
            "Top 10 Results: [{'rank': 1, 'id': 2, 'z*': 100.0}, {'rank': 2, 'id': 3, 'z*': 100.0}, {'rank': 3, 'id': 4, 'z*': 100.0}, {'rank': 4, 'id': 13, 'z*': 100.0}, {'rank': 5, 'id': 15, 'z*': 100.0}, {'rank': 6, 'id': 16, 'z*': 100.0}, {'rank': 7, 'id': 17, 'z*': 100.0}, {'rank': 8, 'id': 22, 'z*': 100.0}, {'rank': 9, 'id': 24, 'z*': 100.0}, {'rank': 10, 'id': 31, 'z*': 100.0}]\n"
          ]
        }
      ],
      "source": [
        "# Step 7: Top 10 Results\n",
        "# Extract the top 10 entries based on the ranking.\n",
        "top_10 = tab_dic[:10]\n",
        "print(\"Top 10 Results:\", top_10)"
      ]
    },
    {
      "cell_type": "code",
      "execution_count": 9,
      "metadata": {},
      "outputs": [
        {
          "name": "stdout",
          "output_type": "stream",
          "text": [
            "Top 10 saved to 'peringkat.xlsx'\n"
          ]
        }
      ],
      "source": [
        "# Step 8: Saving the Results to Excel\n",
        "# Save the top 10 results to an Excel file for further analysis or reporting.\n",
        "pd.DataFrame(top_10).to_excel('peringkat.xlsx', index=False)\n",
        "print(\"Top 10 saved to 'peringkat.xlsx'\")"
      ]
    }
  ],
  "metadata": {
    "colab": {
      "collapsed_sections": [],
      "provenance": []
    },
    "kernelspec": {
      "display_name": "Python 3",
      "language": "python",
      "name": "python3"
    },
    "language_info": {
      "codemirror_mode": {
        "name": "ipython",
        "version": 3
      },
      "file_extension": ".py",
      "mimetype": "text/x-python",
      "name": "python",
      "nbconvert_exporter": "python",
      "pygments_lexer": "ipython3",
      "version": "3.11.0"
    }
  },
  "nbformat": 4,
  "nbformat_minor": 0
}
