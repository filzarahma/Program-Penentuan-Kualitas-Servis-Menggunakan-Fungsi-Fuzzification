{
  "cells": [
    {
      "cell_type": "markdown",
      "source": [
        "Disclaimer! program ini dibuat untuk memenuhi tugas pemograman Mata Kuliah Pengantar Kecerdasan Buatan oleh:\n",
        "- Filza Rahma Muflihah (1301201261)\n",
        "- Ummu Husnul Khatimah (1301204120)\n",
        "\n",
        "Untuk menggunakan program ini, upload terlebih dahulu file 'bengkel.xlsx'. Anda bisa meng-klik icon folder pada pojok kiri ke-empat dari atas lalu menggunggah pada icon paling kiri.\n",
        "\n",
        "\n"
      ],
      "metadata": {
        "id": "EnQyHTCs0KWI"
      }
    },
    {
      "cell_type": "code",
      "execution_count": null,
      "metadata": {
        "colab": {
          "base_uri": "https://localhost:8080/"
        },
        "id": "UizL8LUMxJZ9",
        "outputId": "953e2ec5-6bdf-42b0-8e5a-9a3439ca7f34"
      },
      "outputs": [
        {
          "output_type": "stream",
          "name": "stdout",
          "text": [
            "     id  servis  harga\n",
            "0     1      58      7\n",
            "1     2      54      1\n",
            "2     3      98      2\n",
            "3     4      52      4\n",
            "4     5      11      4\n",
            "..  ...     ...    ...\n",
            "95   96      30      1\n",
            "96   97      25      3\n",
            "97   98      27     10\n",
            "98   99       8      6\n",
            "99  100      11      8\n",
            "\n",
            "[100 rows x 3 columns]\n"
          ]
        }
      ],
      "source": [
        "#Membaca file bengkel.xlsx\n",
        "from pandas.io.common import file_path_to_url\n",
        "import pandas as pd\n",
        "tabel = pd.read_excel('bengkel.xlsx', sheet_name='Sheet1')\n",
        "print(tabel)"
      ]
    },
    {
      "cell_type": "code",
      "execution_count": null,
      "metadata": {
        "colab": {
          "base_uri": "https://localhost:8080/"
        },
        "id": "ktkpiNvMu9Cn",
        "outputId": "6c2bbdaf-0744-4dc6-a778-d66b2d514bc6"
      },
      "outputs": [
        {
          "output_type": "stream",
          "name": "stdout",
          "text": [
            "[{'id': 1, 'servis': 58, 'harga': 7}, {'id': 2, 'servis': 54, 'harga': 1}, {'id': 3, 'servis': 98, 'harga': 2}, {'id': 4, 'servis': 52, 'harga': 4}, {'id': 5, 'servis': 11, 'harga': 4}, {'id': 6, 'servis': 59, 'harga': 10}, {'id': 7, 'servis': 61, 'harga': 8}, {'id': 8, 'servis': 30, 'harga': 10}, {'id': 9, 'servis': 45, 'harga': 1}, {'id': 10, 'servis': 36, 'harga': 9}, {'id': 11, 'servis': 10, 'harga': 5}, {'id': 12, 'servis': 38, 'harga': 7}, {'id': 13, 'servis': 80, 'harga': 3}, {'id': 14, 'servis': 31, 'harga': 8}, {'id': 15, 'servis': 78, 'harga': 5}, {'id': 16, 'servis': 82, 'harga': 6}, {'id': 17, 'servis': 70, 'harga': 3}, {'id': 18, 'servis': 3, 'harga': 9}, {'id': 19, 'servis': 42, 'harga': 3}, {'id': 20, 'servis': 49, 'harga': 10}, {'id': 21, 'servis': 48, 'harga': 2}, {'id': 22, 'servis': 79, 'harga': 9}, {'id': 23, 'servis': 18, 'harga': 4}, {'id': 24, 'servis': 100, 'harga': 9}, {'id': 25, 'servis': 61, 'harga': 10}, {'id': 26, 'servis': 4, 'harga': 2}, {'id': 27, 'servis': 59, 'harga': 8}, {'id': 28, 'servis': 44, 'harga': 3}, {'id': 29, 'servis': 11, 'harga': 8}, {'id': 30, 'servis': 7, 'harga': 6}, {'id': 31, 'servis': 74, 'harga': 9}, {'id': 32, 'servis': 42, 'harga': 3}, {'id': 33, 'servis': 33, 'harga': 8}, {'id': 34, 'servis': 93, 'harga': 4}, {'id': 35, 'servis': 4, 'harga': 1}, {'id': 36, 'servis': 32, 'harga': 6}, {'id': 37, 'servis': 31, 'harga': 4}, {'id': 38, 'servis': 10, 'harga': 1}, {'id': 39, 'servis': 52, 'harga': 7}, {'id': 40, 'servis': 7, 'harga': 6}, {'id': 41, 'servis': 33, 'harga': 2}, {'id': 42, 'servis': 94, 'harga': 10}, {'id': 43, 'servis': 34, 'harga': 3}, {'id': 44, 'servis': 63, 'harga': 2}, {'id': 45, 'servis': 3, 'harga': 8}, {'id': 46, 'servis': 38, 'harga': 1}, {'id': 47, 'servis': 21, 'harga': 3}, {'id': 48, 'servis': 64, 'harga': 4}, {'id': 49, 'servis': 19, 'harga': 1}, {'id': 50, 'servis': 42, 'harga': 5}, {'id': 51, 'servis': 48, 'harga': 10}, {'id': 52, 'servis': 94, 'harga': 3}, {'id': 53, 'servis': 21, 'harga': 6}, {'id': 54, 'servis': 64, 'harga': 10}, {'id': 55, 'servis': 50, 'harga': 7}, {'id': 56, 'servis': 49, 'harga': 3}, {'id': 57, 'servis': 24, 'harga': 3}, {'id': 58, 'servis': 31, 'harga': 1}, {'id': 59, 'servis': 28, 'harga': 4}, {'id': 60, 'servis': 79, 'harga': 6}, {'id': 61, 'servis': 42, 'harga': 4}, {'id': 62, 'servis': 31, 'harga': 7}, {'id': 63, 'servis': 78, 'harga': 7}, {'id': 64, 'servis': 35, 'harga': 2}, {'id': 65, 'servis': 3, 'harga': 8}, {'id': 66, 'servis': 4, 'harga': 9}, {'id': 67, 'servis': 27, 'harga': 4}, {'id': 68, 'servis': 59, 'harga': 5}, {'id': 69, 'servis': 86, 'harga': 10}, {'id': 70, 'servis': 78, 'harga': 8}, {'id': 71, 'servis': 39, 'harga': 3}, {'id': 72, 'servis': 26, 'harga': 6}, {'id': 73, 'servis': 22, 'harga': 10}, {'id': 74, 'servis': 54, 'harga': 4}, {'id': 75, 'servis': 61, 'harga': 1}, {'id': 76, 'servis': 45, 'harga': 5}, {'id': 77, 'servis': 11, 'harga': 10}, {'id': 78, 'servis': 20, 'harga': 1}, {'id': 79, 'servis': 87, 'harga': 9}, {'id': 80, 'servis': 39, 'harga': 10}, {'id': 81, 'servis': 4, 'harga': 10}, {'id': 82, 'servis': 13, 'harga': 4}, {'id': 83, 'servis': 69, 'harga': 8}, {'id': 84, 'servis': 11, 'harga': 2}, {'id': 85, 'servis': 18, 'harga': 4}, {'id': 86, 'servis': 30, 'harga': 5}, {'id': 87, 'servis': 56, 'harga': 4}, {'id': 88, 'servis': 18, 'harga': 9}, {'id': 89, 'servis': 48, 'harga': 2}, {'id': 90, 'servis': 10, 'harga': 1}, {'id': 91, 'servis': 98, 'harga': 3}, {'id': 92, 'servis': 83, 'harga': 3}, {'id': 93, 'servis': 40, 'harga': 8}, {'id': 94, 'servis': 20, 'harga': 3}, {'id': 95, 'servis': 63, 'harga': 8}, {'id': 96, 'servis': 30, 'harga': 1}, {'id': 97, 'servis': 25, 'harga': 3}, {'id': 98, 'servis': 27, 'harga': 10}, {'id': 99, 'servis': 8, 'harga': 6}, {'id': 100, 'servis': 11, 'harga': 8}]\n"
          ]
        }
      ],
      "source": [
        "#Mengubah format excel ke bentuk dictionary\n",
        "data = tabel.to_dict('records')\n",
        "print(data)"
      ]
    },
    {
      "cell_type": "code",
      "execution_count": null,
      "metadata": {
        "id": "-LuMbU-zzXj9"
      },
      "outputs": [],
      "source": [
        "#Fuzzification servis\n",
        "def fuzzi_servis(x):\n",
        "    dictServis = {}\n",
        "    if x <= 33:\n",
        "        ling1 = 'buruk'\n",
        "        n1 = -(x-33)/(33-0)\n",
        "        ling2 = 'buruk'\n",
        "        n2 = (x-0)/(33-0)\n",
        "    elif x > 33 and x <= 50:\n",
        "        ling1 = 'buruk'\n",
        "        n1 = -(x-50)/(50-33)\n",
        "        ling2 = 'cukup'\n",
        "        n2 = (x-33)/(50-33)\n",
        "    elif x > 50 and x <= 70:\n",
        "        ling1 = 'cukup'\n",
        "        n1 = -(x-70)/(70-50)\n",
        "        ling2 = 'bagus'\n",
        "        n2 = (x-50)/(70-50)\n",
        "    else :\n",
        "        ling1 = 'bagus'\n",
        "        n1 = -(x-100)/(100-70)\n",
        "        ling2 = 'bagus'\n",
        "        n2 = (x-70)/(100-70)\n",
        "    dictServis[1] = [ling1, n1]\n",
        "    dictServis[2] = [ling2, n2]\n",
        "    return dictServis\n",
        "\n",
        "#Fuzzification harga\n",
        "def fuzzi_harga(y):\n",
        "    dictHarga = {}\n",
        "    if y <= 5:\n",
        "        ling1 = 'murah'\n",
        "        n1 = -(y-5)/(5-0)\n",
        "        ling2 = 'murah'\n",
        "        n2 = (y-0)/(5-0)\n",
        "    elif y > 5 and y <= 8:\n",
        "        ling1 = 'murah'\n",
        "        n1 = -(y-8)/(8-5)\n",
        "        ling2 = 'mahal'\n",
        "        n2 = (y-5)/(8-5)\n",
        "    else :\n",
        "        ling1 = 'mahal'\n",
        "        n1 = -(y-10)/(10-8)\n",
        "        ling2 = 'mahal'\n",
        "        n2 = (y-8)/(10-8)\n",
        "    dictHarga[1] = [ling1, n1]\n",
        "    dictHarga[2] = [ling2, n2]\n",
        "    return dictHarga\n"
      ]
    },
    {
      "cell_type": "code",
      "source": [
        "#Inferensi\n",
        "ds = fuzzi_servis(data[0]['servis'])\n",
        "dh = fuzzi_harga(data[0]['harga'])\n",
        "\n",
        "def inferensi(ds, dh):\n",
        "    hasil = {'not recommended': 0, 'recommended': 0}\n",
        "    i = 1\n",
        "    j = 1\n",
        "  \n",
        "    #Mencari nilai kelayakan\n",
        "    while i <= 2:\n",
        "        while j <= 2:\n",
        "            if ds[i][0] == 'buruk':\n",
        "                infer = 'not recommended'\n",
        "        \n",
        "            elif ds[i][0] == 'cukup':\n",
        "                if dh[j][0] == 'murah':\n",
        "                    infer = 'recommended'\n",
        "                else:\n",
        "                    infer = 'not recommended'\n",
        "\n",
        "            else :\n",
        "                infer = 'recommended'\n",
        "        \n",
        "            #Menyimpan nilai kelayakan\n",
        "            nilai = min(ds[i][1], dh[j][1])\n",
        "            if infer == 'not recommended' and nilai > hasil[infer]:\n",
        "                hasil[infer] = nilai\n",
        "            elif infer == 'recommended' and nilai > hasil[infer]:\n",
        "                hasil[infer] = nilai\n",
        "\n",
        "            j+=1\n",
        "        j = 1 #kembali ke 1\n",
        "        i+=1\n",
        "    return hasil"
      ],
      "metadata": {
        "id": "zsrF4PNBFitx"
      },
      "execution_count": null,
      "outputs": []
    },
    {
      "cell_type": "code",
      "source": [
        "#Defuzzification\n",
        "def defuzzification(output):\n",
        "  return ((output['not recommended']*50 + output['recommended']*100)/(output['not recommended'] + output['recommended']))\n"
      ],
      "metadata": {
        "id": "y1FIhj2NYGP_"
      },
      "execution_count": null,
      "outputs": []
    },
    {
      "cell_type": "code",
      "source": [
        "#Program Utama\n",
        "tabDic = []\n",
        "i = 0\n",
        "while i < 100:\n",
        "\n",
        "  #fuzzification\n",
        "  ds = fuzzi_servis(data[i]['servis'])\n",
        "  dh = fuzzi_harga(data[i]['harga'])\n",
        "\n",
        "  #inferensi\n",
        "  fOutput = inferensi(ds, dh)\n",
        "\n",
        "  #defuzzification\n",
        "  crisp = defuzzification(fOutput)\n",
        "\n",
        "  #memasukkan data ke dictionary\n",
        "  dic = {}\n",
        "  dic['rank'] = 0\n",
        "  dic['id'] = data[i]['id']\n",
        "  dic['z*'] = crisp\n",
        "\n",
        "  #menyimpan data di list\n",
        "  tabDic.append(dic)\n",
        "  i+= 1\n",
        "\n",
        "#sorting array descending\n",
        "tabDic = sorted(tabDic, key = lambda i: i['z*'], reverse=True)\n",
        "\n",
        "#urut\n",
        "j = 0\n",
        "while j < 100:\n",
        "  tabDic[j]['rank'] = j+1\n",
        "  j+=1"
      ],
      "metadata": {
        "id": "P_W2PZtcfPS4"
      },
      "execution_count": null,
      "outputs": []
    },
    {
      "cell_type": "code",
      "source": [
        "#Top 10\n",
        "top10 = tabDic[ : 10]\n",
        "\n",
        "#Menyimpan data ke excel\n",
        "pd.DataFrame(top10).to_excel('peringkat.xlsx')"
      ],
      "metadata": {
        "id": "QDMzJbudt8tz"
      },
      "execution_count": null,
      "outputs": []
    }
  ],
  "metadata": {
    "colab": {
      "provenance": [],
      "collapsed_sections": []
    },
    "kernelspec": {
      "display_name": "Python 3",
      "name": "python3"
    },
    "language_info": {
      "name": "python"
    }
  },
  "nbformat": 4,
  "nbformat_minor": 0
}